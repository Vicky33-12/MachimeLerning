{
 "cells": [
  {
   "cell_type": "markdown",
   "id": "9bc513f2-b415-4bf9-88e5-608d139ca36d",
   "metadata": {},
   "source": [
    "# LIMPIEZA DE DATOS, VIDEOJUEGOS ... EVALUACIÓN\n"
   ]
  },
  {
   "cell_type": "code",
   "execution_count": 2,
   "id": "970cf9dd-4e51-4fb7-adf5-b3d4efa36ab5",
   "metadata": {},
   "outputs": [],
   "source": [
    "import pandas as pd"
   ]
  },
  {
   "cell_type": "code",
   "execution_count": 3,
   "id": "cdc138ad-a27b-4a3e-a388-1c927b87ddf1",
   "metadata": {},
   "outputs": [
    {
     "data": {
      "text/html": [
       "<div>\n",
       "<style scoped>\n",
       "    .dataframe tbody tr th:only-of-type {\n",
       "        vertical-align: middle;\n",
       "    }\n",
       "\n",
       "    .dataframe tbody tr th {\n",
       "        vertical-align: top;\n",
       "    }\n",
       "\n",
       "    .dataframe thead th {\n",
       "        text-align: right;\n",
       "    }\n",
       "</style>\n",
       "<table border=\"1\" class=\"dataframe\">\n",
       "  <thead>\n",
       "    <tr style=\"text-align: right;\">\n",
       "      <th></th>\n",
       "      <th>name</th>\n",
       "      <th>platform</th>\n",
       "      <th>release_date</th>\n",
       "      <th>summary</th>\n",
       "      <th>meta_score</th>\n",
       "      <th>user_review</th>\n",
       "    </tr>\n",
       "  </thead>\n",
       "  <tbody>\n",
       "    <tr>\n",
       "      <th>0</th>\n",
       "      <td>The Legend of Zelda: Ocarina of Time</td>\n",
       "      <td>Nintendo 64</td>\n",
       "      <td>November 23, 1998</td>\n",
       "      <td>As a young boy, Link is tricked by Ganondorf, ...</td>\n",
       "      <td>99</td>\n",
       "      <td>9.1</td>\n",
       "    </tr>\n",
       "    <tr>\n",
       "      <th>1</th>\n",
       "      <td>Tony Hawk's Pro Skater 2</td>\n",
       "      <td>PlayStation</td>\n",
       "      <td>September 20, 2000</td>\n",
       "      <td>As most major publishers' development efforts ...</td>\n",
       "      <td>98</td>\n",
       "      <td>7.4</td>\n",
       "    </tr>\n",
       "    <tr>\n",
       "      <th>2</th>\n",
       "      <td>Grand Theft Auto IV</td>\n",
       "      <td>PlayStation 3</td>\n",
       "      <td>April 29, 2008</td>\n",
       "      <td>[Metacritic's 2008 PS3 Game of the Year; Also ...</td>\n",
       "      <td>98</td>\n",
       "      <td>7.7</td>\n",
       "    </tr>\n",
       "    <tr>\n",
       "      <th>3</th>\n",
       "      <td>SoulCalibur</td>\n",
       "      <td>Dreamcast</td>\n",
       "      <td>September 8, 1999</td>\n",
       "      <td>This is a tale of souls and swords, transcendi...</td>\n",
       "      <td>98</td>\n",
       "      <td>8.4</td>\n",
       "    </tr>\n",
       "    <tr>\n",
       "      <th>4</th>\n",
       "      <td>Grand Theft Auto IV</td>\n",
       "      <td>Xbox 360</td>\n",
       "      <td>April 29, 2008</td>\n",
       "      <td>[Metacritic's 2008 Xbox 360 Game of the Year; ...</td>\n",
       "      <td>98</td>\n",
       "      <td>7.9</td>\n",
       "    </tr>\n",
       "  </tbody>\n",
       "</table>\n",
       "</div>"
      ],
      "text/plain": [
       "                                   name        platform        release_date  \\\n",
       "0  The Legend of Zelda: Ocarina of Time     Nintendo 64   November 23, 1998   \n",
       "1              Tony Hawk's Pro Skater 2     PlayStation  September 20, 2000   \n",
       "2                   Grand Theft Auto IV   PlayStation 3      April 29, 2008   \n",
       "3                           SoulCalibur       Dreamcast   September 8, 1999   \n",
       "4                   Grand Theft Auto IV        Xbox 360      April 29, 2008   \n",
       "\n",
       "                                             summary  meta_score user_review  \n",
       "0  As a young boy, Link is tricked by Ganondorf, ...          99         9.1  \n",
       "1  As most major publishers' development efforts ...          98         7.4  \n",
       "2  [Metacritic's 2008 PS3 Game of the Year; Also ...          98         7.7  \n",
       "3  This is a tale of souls and swords, transcendi...          98         8.4  \n",
       "4  [Metacritic's 2008 Xbox 360 Game of the Year; ...          98         7.9  "
      ]
     },
     "execution_count": 3,
     "metadata": {},
     "output_type": "execute_result"
    }
   ],
   "source": [
    "#Leer archivo \n",
    "\n",
    "df_videojuegos = pd.read_csv('dataset_videojuegos.csv')\n",
    "df_videojuegos.head()"
   ]
  },
  {
   "cell_type": "code",
   "execution_count": 4,
   "id": "33286d46-06f1-4b02-b707-e7a1d91c01f0",
   "metadata": {},
   "outputs": [
    {
     "name": "stdout",
     "output_type": "stream",
     "text": [
      "<class 'pandas.core.frame.DataFrame'>\n",
      "RangeIndex: 18800 entries, 0 to 18799\n",
      "Data columns (total 6 columns):\n",
      " #   Column        Non-Null Count  Dtype \n",
      "---  ------        --------------  ----- \n",
      " 0   name          18800 non-null  object\n",
      " 1   platform      18800 non-null  object\n",
      " 2   release_date  18800 non-null  object\n",
      " 3   summary       18686 non-null  object\n",
      " 4   meta_score    18800 non-null  int64 \n",
      " 5   user_review   18800 non-null  object\n",
      "dtypes: int64(1), object(5)\n",
      "memory usage: 881.4+ KB\n"
     ]
    }
   ],
   "source": [
    "#Ver variables \n",
    "df_videojuegos.info()"
   ]
  },
  {
   "cell_type": "code",
   "execution_count": 5,
   "id": "66e0b274-b0e0-4e55-9b3d-f38aae5dfa51",
   "metadata": {},
   "outputs": [
    {
     "name": "stdout",
     "output_type": "stream",
     "text": [
      "name              0\n",
      "platform          0\n",
      "release_date      0\n",
      "summary         114\n",
      "meta_score        0\n",
      "user_review       0\n",
      "dtype: int64\n"
     ]
    }
   ],
   "source": [
    "#Saber si hay nulos\n",
    "print(df_videojuegos.isnull().sum())"
   ]
  },
  {
   "cell_type": "code",
   "execution_count": 6,
   "id": "86caa11c-1f41-45e6-9b35-d1bd6013ce53",
   "metadata": {
    "scrolled": true
   },
   "outputs": [],
   "source": [
    "#Eliminar valores nulos encontrados anteriormente\n",
    "df_videojuegos.dropna(subset=[\"summary\"], inplace=True)"
   ]
  },
  {
   "cell_type": "code",
   "execution_count": 7,
   "id": "031326bf-147b-41d1-bc8c-7c17ac1a54de",
   "metadata": {},
   "outputs": [
    {
     "name": "stdout",
     "output_type": "stream",
     "text": [
      "name            0\n",
      "platform        0\n",
      "release_date    0\n",
      "summary         0\n",
      "meta_score      0\n",
      "user_review     0\n",
      "dtype: int64\n"
     ]
    }
   ],
   "source": [
    "#Saber si hay nulos otra vez\n",
    "print(df_videojuegos.isnull().sum())"
   ]
  },
  {
   "cell_type": "code",
   "execution_count": 8,
   "id": "d69d3e57-d8b0-4399-8479-65079cab140e",
   "metadata": {},
   "outputs": [
    {
     "name": "stdout",
     "output_type": "stream",
     "text": [
      "El número de filas duplicadsa es: \n"
     ]
    },
    {
     "data": {
      "text/plain": [
       "0"
      ]
     },
     "execution_count": 8,
     "metadata": {},
     "output_type": "execute_result"
    }
   ],
   "source": [
    "# Revisar si hay filas duplicadas\n",
    "print(\"El número de filas duplicadsa es: \")\n",
    "duplicadas= df_videojuegos.duplicated().sum()\n",
    "duplicadas"
   ]
  },
  {
   "cell_type": "code",
   "execution_count": 9,
   "id": "793e859e-506f-4f99-9cf6-72f3aa4969b9",
   "metadata": {},
   "outputs": [
    {
     "data": {
      "text/html": [
       "<div>\n",
       "<style scoped>\n",
       "    .dataframe tbody tr th:only-of-type {\n",
       "        vertical-align: middle;\n",
       "    }\n",
       "\n",
       "    .dataframe tbody tr th {\n",
       "        vertical-align: top;\n",
       "    }\n",
       "\n",
       "    .dataframe thead th {\n",
       "        text-align: right;\n",
       "    }\n",
       "</style>\n",
       "<table border=\"1\" class=\"dataframe\">\n",
       "  <thead>\n",
       "    <tr style=\"text-align: right;\">\n",
       "      <th></th>\n",
       "      <th>name</th>\n",
       "      <th>platform</th>\n",
       "      <th>release_date</th>\n",
       "      <th>summary</th>\n",
       "      <th>meta_score</th>\n",
       "      <th>user_review</th>\n",
       "    </tr>\n",
       "  </thead>\n",
       "  <tbody>\n",
       "    <tr>\n",
       "      <th>0</th>\n",
       "      <td>The Legend of Zelda: Ocarina of Time</td>\n",
       "      <td>Nintendo 64</td>\n",
       "      <td>November 23, 1998</td>\n",
       "      <td>As a young boy, Link is tricked by Ganondorf, ...</td>\n",
       "      <td>99</td>\n",
       "      <td>9.1</td>\n",
       "    </tr>\n",
       "    <tr>\n",
       "      <th>1</th>\n",
       "      <td>Tony Hawk's Pro Skater 2</td>\n",
       "      <td>PlayStation</td>\n",
       "      <td>September 20, 2000</td>\n",
       "      <td>As most major publishers' development efforts ...</td>\n",
       "      <td>98</td>\n",
       "      <td>7.4</td>\n",
       "    </tr>\n",
       "    <tr>\n",
       "      <th>2</th>\n",
       "      <td>Grand Theft Auto IV</td>\n",
       "      <td>PlayStation 3</td>\n",
       "      <td>April 29, 2008</td>\n",
       "      <td>[Metacritic's 2008 PS3 Game of the Year; Also ...</td>\n",
       "      <td>98</td>\n",
       "      <td>7.7</td>\n",
       "    </tr>\n",
       "    <tr>\n",
       "      <th>3</th>\n",
       "      <td>SoulCalibur</td>\n",
       "      <td>Dreamcast</td>\n",
       "      <td>September 8, 1999</td>\n",
       "      <td>This is a tale of souls and swords, transcendi...</td>\n",
       "      <td>98</td>\n",
       "      <td>8.4</td>\n",
       "    </tr>\n",
       "    <tr>\n",
       "      <th>4</th>\n",
       "      <td>Grand Theft Auto IV</td>\n",
       "      <td>Xbox 360</td>\n",
       "      <td>April 29, 2008</td>\n",
       "      <td>[Metacritic's 2008 Xbox 360 Game of the Year; ...</td>\n",
       "      <td>98</td>\n",
       "      <td>7.9</td>\n",
       "    </tr>\n",
       "    <tr>\n",
       "      <th>...</th>\n",
       "      <td>...</td>\n",
       "      <td>...</td>\n",
       "      <td>...</td>\n",
       "      <td>...</td>\n",
       "      <td>...</td>\n",
       "      <td>...</td>\n",
       "    </tr>\n",
       "    <tr>\n",
       "      <th>18795</th>\n",
       "      <td>Fast &amp; Furious: Showdown</td>\n",
       "      <td>Xbox 360</td>\n",
       "      <td>May 21, 2013</td>\n",
       "      <td>Fast &amp; Furious: Showdown takes some of the fra...</td>\n",
       "      <td>22</td>\n",
       "      <td>1.3</td>\n",
       "    </tr>\n",
       "    <tr>\n",
       "      <th>18796</th>\n",
       "      <td>Drake of the 99 Dragons</td>\n",
       "      <td>Xbox</td>\n",
       "      <td>November 3, 2003</td>\n",
       "      <td>Drake is out for revenge in a supernatural Hon...</td>\n",
       "      <td>22</td>\n",
       "      <td>1.7</td>\n",
       "    </tr>\n",
       "    <tr>\n",
       "      <th>18797</th>\n",
       "      <td>Afro Samurai 2: Revenge of Kuma Volume One</td>\n",
       "      <td>PlayStation 4</td>\n",
       "      <td>September 22, 2015</td>\n",
       "      <td>Head out on a journey of redemption, driven by...</td>\n",
       "      <td>21</td>\n",
       "      <td>2.9</td>\n",
       "    </tr>\n",
       "    <tr>\n",
       "      <th>18798</th>\n",
       "      <td>Infestation: Survivor Stories (The War Z)</td>\n",
       "      <td>PC</td>\n",
       "      <td>October 15, 2012</td>\n",
       "      <td>(Formerly known as \"The War Z\") It has been 5 ...</td>\n",
       "      <td>20</td>\n",
       "      <td>1.7</td>\n",
       "    </tr>\n",
       "    <tr>\n",
       "      <th>18799</th>\n",
       "      <td>Leisure Suit Larry: Box Office Bust</td>\n",
       "      <td>PC</td>\n",
       "      <td>March 31, 2009</td>\n",
       "      <td>The Leisure Suit Larry: Box Office Bust video ...</td>\n",
       "      <td>20</td>\n",
       "      <td>2.0</td>\n",
       "    </tr>\n",
       "  </tbody>\n",
       "</table>\n",
       "<p>18686 rows × 6 columns</p>\n",
       "</div>"
      ],
      "text/plain": [
       "                                             name        platform  \\\n",
       "0            The Legend of Zelda: Ocarina of Time     Nintendo 64   \n",
       "1                        Tony Hawk's Pro Skater 2     PlayStation   \n",
       "2                             Grand Theft Auto IV   PlayStation 3   \n",
       "3                                     SoulCalibur       Dreamcast   \n",
       "4                             Grand Theft Auto IV        Xbox 360   \n",
       "...                                           ...             ...   \n",
       "18795                    Fast & Furious: Showdown        Xbox 360   \n",
       "18796                     Drake of the 99 Dragons            Xbox   \n",
       "18797  Afro Samurai 2: Revenge of Kuma Volume One   PlayStation 4   \n",
       "18798   Infestation: Survivor Stories (The War Z)              PC   \n",
       "18799         Leisure Suit Larry: Box Office Bust              PC   \n",
       "\n",
       "             release_date                                            summary  \\\n",
       "0       November 23, 1998  As a young boy, Link is tricked by Ganondorf, ...   \n",
       "1      September 20, 2000  As most major publishers' development efforts ...   \n",
       "2          April 29, 2008  [Metacritic's 2008 PS3 Game of the Year; Also ...   \n",
       "3       September 8, 1999  This is a tale of souls and swords, transcendi...   \n",
       "4          April 29, 2008  [Metacritic's 2008 Xbox 360 Game of the Year; ...   \n",
       "...                   ...                                                ...   \n",
       "18795        May 21, 2013  Fast & Furious: Showdown takes some of the fra...   \n",
       "18796    November 3, 2003  Drake is out for revenge in a supernatural Hon...   \n",
       "18797  September 22, 2015  Head out on a journey of redemption, driven by...   \n",
       "18798    October 15, 2012  (Formerly known as \"The War Z\") It has been 5 ...   \n",
       "18799      March 31, 2009  The Leisure Suit Larry: Box Office Bust video ...   \n",
       "\n",
       "       meta_score user_review  \n",
       "0              99         9.1  \n",
       "1              98         7.4  \n",
       "2              98         7.7  \n",
       "3              98         8.4  \n",
       "4              98         7.9  \n",
       "...           ...         ...  \n",
       "18795          22         1.3  \n",
       "18796          22         1.7  \n",
       "18797          21         2.9  \n",
       "18798          20         1.7  \n",
       "18799          20         2.0  \n",
       "\n",
       "[18686 rows x 6 columns]"
      ]
     },
     "execution_count": 9,
     "metadata": {},
     "output_type": "execute_result"
    }
   ],
   "source": [
    "df_videojuegos"
   ]
  },
  {
   "cell_type": "code",
   "execution_count": null,
   "id": "fd8154dc-a1d3-4943-97f3-d0b24cfc8ddb",
   "metadata": {},
   "outputs": [],
   "source": []
  },
  {
   "cell_type": "code",
   "execution_count": 11,
   "id": "30cf49ee-2654-4f31-b175-83c9c83a94ec",
   "metadata": {},
   "outputs": [
    {
     "data": {
      "text/plain": [
       "platform\n",
       "PC                  4829\n",
       "PlayStation 4       2039\n",
       "Xbox 360            1640\n",
       "PlayStation 2       1412\n",
       "Switch              1375\n",
       "PlayStation 3       1255\n",
       "Xbox One            1166\n",
       "Xbox                 789\n",
       "DS                   718\n",
       "Wii                  654\n",
       "PSP                  509\n",
       "GameCube             448\n",
       "Game Boy Advance     433\n",
       "3DS                  394\n",
       "PlayStation Vita     254\n",
       "PlayStation          186\n",
       "Wii U                183\n",
       "Dreamcast            125\n",
       "PlayStation 5        124\n",
       "Xbox Series X         77\n",
       "Nintendo 64           71\n",
       "Stadia                 5\n",
       "Name: count, dtype: int64"
      ]
     },
     "execution_count": 11,
     "metadata": {},
     "output_type": "execute_result"
    }
   ],
   "source": [
    "#Ver si hay variaciones del mismo nombre en alguno, pero yo veo todos diferentes\n",
    "df_videojuegos[\"platform\"].value_counts()"
   ]
  },
  {
   "cell_type": "code",
   "execution_count": 42,
   "id": "bdc3c4e4-1151-4a61-b4d3-327f452d6f93",
   "metadata": {},
   "outputs": [
    {
     "name": "stdout",
     "output_type": "stream",
     "text": [
      "count    17341.000000\n",
      "mean        71.200738\n",
      "std         12.224246\n",
      "min         20.000000\n",
      "25%         64.000000\n",
      "50%         73.000000\n",
      "75%         80.000000\n",
      "max         99.000000\n",
      "Name: meta_score, dtype: float64\n"
     ]
    }
   ],
   "source": [
    "#Revisar los porcentajes\n",
    "print(df_videojuegos[\"meta_score\"].describe())"
   ]
  },
  {
   "cell_type": "code",
   "execution_count": 44,
   "id": "9c38d6d5-4a77-46a7-a98f-fa3f28c9d1c0",
   "metadata": {},
   "outputs": [
    {
     "name": "stdout",
     "output_type": "stream",
     "text": [
      "count    17341.000000\n",
      "mean         6.991269\n",
      "std          1.351931\n",
      "min          0.200000\n",
      "25%          6.300000\n",
      "50%          7.300000\n",
      "75%          7.900000\n",
      "max          9.700000\n",
      "Name: user_review, dtype: float64\n"
     ]
    }
   ],
   "source": [
    "#Revisar los porcentajes\n",
    "print(df_videojuegos[\"user_review\"].describe())"
   ]
  },
  {
   "cell_type": "code",
   "execution_count": 31,
   "id": "97f8049a-077e-4536-8764-c54068386ff5",
   "metadata": {},
   "outputs": [
    {
     "ename": "TypeError",
     "evalue": "'>=' not supported between instances of 'str' and 'int'",
     "output_type": "error",
     "traceback": [
      "\u001b[1;31m---------------------------------------------------------------------------\u001b[0m",
      "\u001b[1;31mTypeError\u001b[0m                                 Traceback (most recent call last)",
      "Cell \u001b[1;32mIn[31], line 2\u001b[0m\n\u001b[0;32m      1\u001b[0m \u001b[38;5;66;03m#Que su rango sea de 1-10\u001b[39;00m\n\u001b[1;32m----> 2\u001b[0m df_videojuegos \u001b[38;5;241m=\u001b[39m df_videojuegos[(df_videojuegos[\u001b[38;5;124m\"\u001b[39m\u001b[38;5;124muser_review\u001b[39m\u001b[38;5;124m\"\u001b[39m] \u001b[38;5;241m>\u001b[39m\u001b[38;5;241m=\u001b[39m \u001b[38;5;241m0\u001b[39m) \u001b[38;5;241m&\u001b[39m (df_videojuegos[\u001b[38;5;124m\"\u001b[39m\u001b[38;5;124muser_review\u001b[39m\u001b[38;5;124m\"\u001b[39m] \u001b[38;5;241m<\u001b[39m\u001b[38;5;241m=\u001b[39m \u001b[38;5;241m10\u001b[39m)]\n",
      "File \u001b[1;32m~\\anaconda3\\Lib\\site-packages\\pandas\\core\\ops\\common.py:76\u001b[0m, in \u001b[0;36m_unpack_zerodim_and_defer.<locals>.new_method\u001b[1;34m(self, other)\u001b[0m\n\u001b[0;32m     72\u001b[0m             \u001b[38;5;28;01mreturn\u001b[39;00m \u001b[38;5;28mNotImplemented\u001b[39m\n\u001b[0;32m     74\u001b[0m other \u001b[38;5;241m=\u001b[39m item_from_zerodim(other)\n\u001b[1;32m---> 76\u001b[0m \u001b[38;5;28;01mreturn\u001b[39;00m method(\u001b[38;5;28mself\u001b[39m, other)\n",
      "File \u001b[1;32m~\\anaconda3\\Lib\\site-packages\\pandas\\core\\arraylike.py:60\u001b[0m, in \u001b[0;36mOpsMixin.__ge__\u001b[1;34m(self, other)\u001b[0m\n\u001b[0;32m     58\u001b[0m \u001b[38;5;129m@unpack_zerodim_and_defer\u001b[39m(\u001b[38;5;124m\"\u001b[39m\u001b[38;5;124m__ge__\u001b[39m\u001b[38;5;124m\"\u001b[39m)\n\u001b[0;32m     59\u001b[0m \u001b[38;5;28;01mdef\u001b[39;00m \u001b[38;5;21m__ge__\u001b[39m(\u001b[38;5;28mself\u001b[39m, other):\n\u001b[1;32m---> 60\u001b[0m     \u001b[38;5;28;01mreturn\u001b[39;00m \u001b[38;5;28mself\u001b[39m\u001b[38;5;241m.\u001b[39m_cmp_method(other, operator\u001b[38;5;241m.\u001b[39mge)\n",
      "File \u001b[1;32m~\\anaconda3\\Lib\\site-packages\\pandas\\core\\series.py:6119\u001b[0m, in \u001b[0;36mSeries._cmp_method\u001b[1;34m(self, other, op)\u001b[0m\n\u001b[0;32m   6116\u001b[0m lvalues \u001b[38;5;241m=\u001b[39m \u001b[38;5;28mself\u001b[39m\u001b[38;5;241m.\u001b[39m_values\n\u001b[0;32m   6117\u001b[0m rvalues \u001b[38;5;241m=\u001b[39m extract_array(other, extract_numpy\u001b[38;5;241m=\u001b[39m\u001b[38;5;28;01mTrue\u001b[39;00m, extract_range\u001b[38;5;241m=\u001b[39m\u001b[38;5;28;01mTrue\u001b[39;00m)\n\u001b[1;32m-> 6119\u001b[0m res_values \u001b[38;5;241m=\u001b[39m ops\u001b[38;5;241m.\u001b[39mcomparison_op(lvalues, rvalues, op)\n\u001b[0;32m   6121\u001b[0m \u001b[38;5;28;01mreturn\u001b[39;00m \u001b[38;5;28mself\u001b[39m\u001b[38;5;241m.\u001b[39m_construct_result(res_values, name\u001b[38;5;241m=\u001b[39mres_name)\n",
      "File \u001b[1;32m~\\anaconda3\\Lib\\site-packages\\pandas\\core\\ops\\array_ops.py:344\u001b[0m, in \u001b[0;36mcomparison_op\u001b[1;34m(left, right, op)\u001b[0m\n\u001b[0;32m    341\u001b[0m     \u001b[38;5;28;01mreturn\u001b[39;00m invalid_comparison(lvalues, rvalues, op)\n\u001b[0;32m    343\u001b[0m \u001b[38;5;28;01melif\u001b[39;00m lvalues\u001b[38;5;241m.\u001b[39mdtype \u001b[38;5;241m==\u001b[39m \u001b[38;5;28mobject\u001b[39m \u001b[38;5;129;01mor\u001b[39;00m \u001b[38;5;28misinstance\u001b[39m(rvalues, \u001b[38;5;28mstr\u001b[39m):\n\u001b[1;32m--> 344\u001b[0m     res_values \u001b[38;5;241m=\u001b[39m comp_method_OBJECT_ARRAY(op, lvalues, rvalues)\n\u001b[0;32m    346\u001b[0m \u001b[38;5;28;01melse\u001b[39;00m:\n\u001b[0;32m    347\u001b[0m     res_values \u001b[38;5;241m=\u001b[39m _na_arithmetic_op(lvalues, rvalues, op, is_cmp\u001b[38;5;241m=\u001b[39m\u001b[38;5;28;01mTrue\u001b[39;00m)\n",
      "File \u001b[1;32m~\\anaconda3\\Lib\\site-packages\\pandas\\core\\ops\\array_ops.py:129\u001b[0m, in \u001b[0;36mcomp_method_OBJECT_ARRAY\u001b[1;34m(op, x, y)\u001b[0m\n\u001b[0;32m    127\u001b[0m     result \u001b[38;5;241m=\u001b[39m libops\u001b[38;5;241m.\u001b[39mvec_compare(x\u001b[38;5;241m.\u001b[39mravel(), y\u001b[38;5;241m.\u001b[39mravel(), op)\n\u001b[0;32m    128\u001b[0m \u001b[38;5;28;01melse\u001b[39;00m:\n\u001b[1;32m--> 129\u001b[0m     result \u001b[38;5;241m=\u001b[39m libops\u001b[38;5;241m.\u001b[39mscalar_compare(x\u001b[38;5;241m.\u001b[39mravel(), y, op)\n\u001b[0;32m    130\u001b[0m \u001b[38;5;28;01mreturn\u001b[39;00m result\u001b[38;5;241m.\u001b[39mreshape(x\u001b[38;5;241m.\u001b[39mshape)\n",
      "File \u001b[1;32mops.pyx:107\u001b[0m, in \u001b[0;36mpandas._libs.ops.scalar_compare\u001b[1;34m()\u001b[0m\n",
      "\u001b[1;31mTypeError\u001b[0m: '>=' not supported between instances of 'str' and 'int'"
     ]
    }
   ],
   "source": [
    "#Que su rango sea de 1-10\n",
    "df_videojuegos = df_videojuegos[(df_videojuegos[\"user_review\"] >= 0) & (df_videojuegos[\"user_review\"] <= 10)]"
   ]
  },
  {
   "cell_type": "code",
   "execution_count": 33,
   "id": "f28c8b33-2068-40b0-98c0-3fd8deec6e35",
   "metadata": {},
   "outputs": [],
   "source": [
    "#Pues ya que dió el error de arriba toca convertir los datos de 'str' a 'NaN'\n",
    "df_videojuegos[\"user_review\"] = pd.to_numeric(df_videojuegos[\"user_review\"], errors=\"coerce\")"
   ]
  },
  {
   "cell_type": "code",
   "execution_count": 35,
   "id": "e0e5e1b0-4874-4287-b597-f8b138b48345",
   "metadata": {},
   "outputs": [],
   "source": [
    "#Ahora si hademos lo de arriba\n",
    "#Que su rango sea de 1-10\n",
    "df_videojuegos = df_videojuegos[(df_videojuegos[\"user_review\"] >= 0) & (df_videojuegos[\"user_review\"] <= 10)]"
   ]
  },
  {
   "cell_type": "code",
   "execution_count": null,
   "id": "83d83a19-b651-4428-8e18-e45384ed0d9a",
   "metadata": {},
   "outputs": [],
   "source": []
  },
  {
   "cell_type": "code",
   "execution_count": 39,
   "id": "b4a07ff4-95d8-46a5-8219-f473eb78902b",
   "metadata": {
    "scrolled": true
   },
   "outputs": [
    {
     "name": "stdout",
     "output_type": "stream",
     "text": [
      "count    17341.000000\n",
      "mean         6.991269\n",
      "std          1.351931\n",
      "min          0.200000\n",
      "25%          6.300000\n",
      "50%          7.300000\n",
      "75%          7.900000\n",
      "max          9.700000\n",
      "Name: user_review, dtype: float64\n"
     ]
    }
   ],
   "source": [
    "print(df_videojuegos[\"user_review\"].describe())"
   ]
  },
  {
   "cell_type": "code",
   "execution_count": null,
   "id": "83000ca8-84c6-455a-9b0c-8f461f9347d8",
   "metadata": {},
   "outputs": [],
   "source": [
    "#Ya no se me ocurre que mas hacerle, yo creo que así lo voy a dejar :) "
   ]
  },
  {
   "cell_type": "code",
   "execution_count": 49,
   "id": "23759540-5e35-4e83-9d66-a1dc7ad12028",
   "metadata": {},
   "outputs": [],
   "source": [
    "#Guardar el dataset con otro nombre y limpiooooo\n",
    "df_videojuegos.to_csv('dataset_videojuegos_clean.csv')"
   ]
  },
  {
   "cell_type": "code",
   "execution_count": null,
   "id": "4e283480-8fb8-44f1-ad04-1fd0bc4b5b9d",
   "metadata": {},
   "outputs": [],
   "source": []
  }
 ],
 "metadata": {
  "kernelspec": {
   "display_name": "Python [conda env:base] *",
   "language": "python",
   "name": "conda-base-py"
  },
  "language_info": {
   "codemirror_mode": {
    "name": "ipython",
    "version": 3
   },
   "file_extension": ".py",
   "mimetype": "text/x-python",
   "name": "python",
   "nbconvert_exporter": "python",
   "pygments_lexer": "ipython3",
   "version": "3.12.7"
  }
 },
 "nbformat": 4,
 "nbformat_minor": 5
}
